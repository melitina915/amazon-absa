{
  "nbformat": 4,
  "nbformat_minor": 0,
  "metadata": {
    "colab": {
      "provenance": [],
      "gpuType": "T4",
      "authorship_tag": "ABX9TyMa00UcKxOGR8lZacpcaMQc",
      "include_colab_link": true
    },
    "kernelspec": {
      "name": "python3",
      "display_name": "Python 3"
    },
    "language_info": {
      "name": "python"
    },
    "accelerator": "GPU"
  },
  "cells": [
    {
      "cell_type": "markdown",
      "metadata": {
        "id": "view-in-github",
        "colab_type": "text"
      },
      "source": [
        "<a href=\"https://colab.research.google.com/github/seo-won-lee/amazon-absa/blob/main/BARTABSA.ipynb\" target=\"_parent\"><img src=\"https://colab.research.google.com/assets/colab-badge.svg\" alt=\"Open In Colab\"/></a>"
      ]
    },
    {
      "cell_type": "code",
      "execution_count": null,
      "metadata": {
        "id": "RNy69rNf9IIe"
      },
      "outputs": [],
      "source": [
        "from google.colab import drive\n",
        "drive.mount('/content/drive')"
      ]
    },
    {
      "cell_type": "code",
      "source": [
        "file_path = '/content/drive/MyDrive/DACOS/absa_model/amazon_4_preprocess_lower.csv'"
      ],
      "metadata": {
        "id": "0lSTWAsm9JCF"
      },
      "execution_count": null,
      "outputs": []
    },
    {
      "cell_type": "code",
      "source": [
        "import pandas as pd\n",
        "\n",
        "df = pd.read_csv(file_path)"
      ],
      "metadata": {
        "id": "xXxRIJok9LgC"
      },
      "execution_count": null,
      "outputs": []
    },
    {
      "cell_type": "code",
      "source": [
        "pd.set_option('display.max_colwidth', None)   # 또는 0 (버전에 따라 None 또는 0)\n",
        "df['review']"
      ],
      "metadata": {
        "id": "2GSTfIES9MJv"
      },
      "execution_count": null,
      "outputs": []
    },
    {
      "cell_type": "code",
      "source": [
        "# 라이브러리 import\n",
        "import pandas as pd\n",
        "from transformers import pipeline\n",
        "# 사전 학습 모델 사용\n",
        "from datasets import Dataset\n",
        "# Hugging Face 데이터 구조\n",
        "\n",
        "dataset = Dataset.from_pandas(df.reset_index(drop=True))\n",
        "# pandas -> Hugging Face Dataset 변환\n",
        "# 병렬 처리 및 배치 연산 의도\n",
        "\n",
        "absa_pipe = pipeline(\n",
        "    # ABSA 파이프라인\n",
        "    task='ner',\n",
        "    # Named Entity Recognition 기반 ABSA 작업 수행\n",
        "    model='gauneg/roberta-base-absa-ate-sentiment',\n",
        "    # Hugging Face의 Aspect Term Extraction + Sentiment 모델 사용\n",
        "    aggregation_strategy='simple',\n",
        "    # 토큰 단위 예측을 단어 단위로 합침\n",
        "    device=0\n",
        "    # GPU 실행\n",
        ")\n",
        "\n",
        "\n",
        "\n",
        "def extract_absa(batch):\n",
        "    try:\n",
        "        preds_batch = absa_pipe(batch[\"review\"])\n",
        "        # 배치 리스트 전체를 모델에 넣고 추론\n",
        "    except Exception as e:\n",
        "        print(\"❌ Batch prediction failed:\", e)\n",
        "        preds_batch = [[] for _ in batch[\"review\"]]\n",
        "        # 텍스트 길이 초과, GPU Out Of Memory 등의 예외 발생 시 에러 메시지 출력\n",
        "        # 실패한 리뷰들에 대한 리스트 생성\n",
        "\n",
        "    aspects, sentiments = [], []\n",
        "    # 각 리뷰별로 추출한 aspect, sentiment, score 저장\n",
        "\n",
        "    for preds in preds_batch:\n",
        "        # 리뷰별 결과 처리\n",
        "        preds = [r for r in preds if r[\"word\"].strip() != \".\" or len(r[\"word\"].strip()) > 2]\n",
        "        # 토큰 단위로 ABSA 모델의 결과 r 반환\n",
        "        # \".\" 단독 토큰과 길이가 1인 무의미한 결과 제거 (\".\"이 아니거나 길이 2 이상이면 유지)\n",
        "        aspects.append([r[\"word\"].strip() for r in preds])\n",
        "        # aspect\n",
        "        sentiments.append([r[\"entity_group\"] for r in preds])\n",
        "        # 긍정/부정/중립 감성 label\n",
        "\n",
        "    return {\n",
        "        \"aspect\": aspects,\n",
        "        \"sentiment\": sentiments\n",
        "        # \"score\": scores\n",
        "    }\n",
        "    # 통합될 딕셔너리 결과\n",
        "\n",
        "\n",
        "\n",
        "batch_sizes = [64, 48, 32, 16, 8]\n",
        "# 큰 배치부터 시도하여 Out Of Memory를 피하며 GPU 메모리를 효율적으로 사용하도록 한다\n",
        "result_dataset = None\n",
        "# 결과 저장\n",
        "\n",
        "for bs in batch_sizes:\n",
        "    # 배치 처리\n",
        "    # 반복문으로 하나씩 batch_size 값 넣으며 실행\n",
        "    try:\n",
        "        print(f\"🔍 Trying batch_size={bs}\")\n",
        "        result_dataset = dataset.map(\n",
        "            # dataset.map을 사용해 배치 단위로 extract_absa 적용\n",
        "            extract_absa,\n",
        "            batched=True,\n",
        "            # 배치 단위 작동\n",
        "            batch_size=bs,\n",
        "            desc=f\"Running ABSA (batch_size={bs})\"\n",
        "            # 진행률 표시\n",
        "        )\n",
        "        print(f\"✅ Success with batch_size={bs}\")\n",
        "        # 성공시 루프 종료\n",
        "        break\n",
        "    except RuntimeError as e:\n",
        "        print(f\"❌ Failed at batch_size={bs}: {e}\")\n",
        "        # 실패시 다음 작은 배치로 넘어감\n",
        "        continue\n",
        "\n",
        "# 모든 batch_size 실패할 경우, 메모리 문제로 판단하고 에러 발생\n",
        "if result_dataset is None:\n",
        "    raise RuntimeError(\"All batch sizes failed due to memory issues.\")\n",
        "\n",
        "# Hugging Face Dataset -> pandas DataFrame\n",
        "result_df = result_dataset.to_pandas()\n",
        "# pandas DataFrame에 결과 병합\n",
        "df[[\"aspect\", \"sentiment\"]] = result_df[[\"aspect\", \"sentiment\"]]\n",
        "\n",
        "# 결과 확인\n",
        "df\n"
      ],
      "metadata": {
        "id": "JQsOJwgb8gQC"
      },
      "execution_count": null,
      "outputs": []
    },
    {
      "cell_type": "code",
      "source": [
        "df.to_csv('/content/drive/MyDrive/DACOS/absa_model/amazon_4_preprocess_lower_absa.csv', index=False, encoding='utf-8')"
      ],
      "metadata": {
        "id": "R65T9OndF5TY"
      },
      "execution_count": null,
      "outputs": []
    },
    {
      "cell_type": "code",
      "source": [],
      "metadata": {
        "id": "FjXmbMDw9L2S"
      },
      "execution_count": null,
      "outputs": []
    }
  ]
}
